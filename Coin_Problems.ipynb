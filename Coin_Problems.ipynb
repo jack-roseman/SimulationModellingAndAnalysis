{
 "cells": [
  {
   "cell_type": "code",
   "execution_count": 53,
   "metadata": {},
   "outputs": [
    {
     "data": {
      "image/png": "[encoded data removed]",
      "text/plain": [
       "<Figure size 432x288 with 1 Axes>"
      ]
     },
     "metadata": {
      "needs_background": "light"
     },
     "output_type": "display_data"
    },
    {
     "name": "stdout",
     "output_type": "stream",
     "text": [
      "Theoretical Probability = 0.6400000000000001\n",
      "Monte Carlo Probability = 0.63892\n"
     ]
    }
   ],
   "source": [
    "#Problem 1\n",
    "from random import *\n",
    "from pylab import plt\n",
    "\n",
    "# Hyper-parameters\n",
    "N = 100000\n",
    "a = 10\n",
    "b = 10\n",
    "R = 1\n",
    "\n",
    "count = 0\n",
    "Xpts = []\n",
    "Ypts = []\n",
    "\n",
    "def onPaper(x,y):\n",
    "    #Coin is fully on the rectangle\n",
    "    return (x + R <= a and x - R >= 0 and y + R <= b and y - R >= 0)\n",
    "\n",
    "for i in range(N):\n",
    "    x = random()*a\n",
    "    y = random()*b\n",
    "    if onPaper(x, y):\n",
    "        Xpts.append(x)\n",
    "        Ypts.append(y)\n",
    "        count = count + 1\n",
    "    \n",
    "plt.plot(Xpts, Ypts, '.')\n",
    "plt.xlim(0, a)\n",
    "plt.ylim(0, b)\n",
    "plt.show()\n",
    "theoreticalProb = (1 - (2*R/a))*(1 - (2*R/b))\n",
    "print(\"Theoretical Probability = {}\".format(theoreticalProb))\n",
    "print(\"Monte Carlo Probability = {}\".format(count/N))"
   ]
  },
  {
   "cell_type": "code",
   "execution_count": 54,
   "metadata": {},
   "outputs": [
    {
     "data": {
      "image/png": "[encoded data removed]",
      "text/plain": [
       "<Figure size 432x288 with 1 Axes>"
      ]
     },
     "metadata": {
      "needs_background": "light"
     },
     "output_type": "display_data"
    },
    {
     "name": "stdout",
     "output_type": "stream",
     "text": [
      "Theoretical Probability = 0.8\n",
      "Monte Carlo Probability = 0.000148\n"
     ]
    }
   ],
   "source": [
    "#Problem 2\n",
    "from random import *\n",
    "from pylab import plt\n",
    "from math import isclose\n",
    "\n",
    "# Hyper-parameters\n",
    "N = 500000\n",
    "a = 10\n",
    "b = 100\n",
    "R = 1\n",
    "\n",
    "count = 0\n",
    "Xpts = []\n",
    "Ypts = []\n",
    "\n",
    "def onPaper(x,y):\n",
    "    #Coin is fully on the rectangle\n",
    "    return (x + R <= a and x - R >= 0 and y + R <= b and y - R >= 0)\n",
    "\n",
    "def onDiag(x,y):\n",
    "    return abs((y) - (b*x/a)) < 0.01\n",
    "\n",
    "for i in range(N):\n",
    "    x = random()*a\n",
    "    y = random()*b\n",
    "    if onPaper(x,y) and onDiag(x, y):\n",
    "        Xpts.append(x)\n",
    "        Ypts.append(y)\n",
    "        count = count + 1\n",
    "    \n",
    "plt.plot(Xpts, Ypts, '.')\n",
    "plt.xlim(0, a)\n",
    "plt.ylim(0, b)\n",
    "plt.show()\n",
    "theoreticalProb = 1 - 2*R/min([a,b])\n",
    "print(\"Theoretical Probability = {}\".format(theoreticalProb))\n",
    "print(\"Monte Carlo Probability = {}\".format(count/N))"
   ]
  },
  {
   "cell_type": "code",
   "execution_count": 51,
   "metadata": {},
   "outputs": [
    {
     "name": "stdout",
     "output_type": "stream",
     "text": [
      "Theoretical Probability = 0.6400000000000001\n",
      "Monte Carlo Probability = 0.6408\n"
     ]
    }
   ],
   "source": [
    "#Problem 3\n",
    "from random import *\n",
    "from pylab import plt\n",
    "\n",
    "# Hyper-parameters\n",
    "N = 100000\n",
    "L = 10\n",
    "R1 = 2\n",
    "R2 = 2\n",
    "\n",
    "count = 0\n",
    "Xpts = []\n",
    "\n",
    "for i in range(N):\n",
    "    x1 = uniform(0, L)\n",
    "    x2 = uniform(0, L)\n",
    "    if (abs(x2 - x1) <= R1 + R2):\n",
    "        count = count + 1\n",
    "\n",
    "rho = (R1 + R2)/L\n",
    "theoreticalProb = rho*(2 - rho) if rho <= 1.0 else 1.0\n",
    "print(\"Theoretical Probability = {}\".format(theoreticalProb))\n",
    "print(\"Monte Carlo Probability = {}\".format(count/N))"
   ]
  },
  {
   "cell_type": "code",
   "execution_count": 52,
   "metadata": {},
   "outputs": [
    {
     "name": "stdout",
     "output_type": "stream",
     "text": [
      "Monte Carlo Probability = 0.97505\n"
     ]
    }
   ],
   "source": [
    "#Problem 3\n",
    "from numpy import sqrt\n",
    "from random import *\n",
    "from pylab import plt\n",
    "\n",
    "# Hyper-parameters\n",
    "N = 100000\n",
    "a = 100\n",
    "b = 100\n",
    "R1 = 50\n",
    "R2 = 50\n",
    "\n",
    "count = 0\n",
    "for i in range(N):\n",
    "    x1 = uniform(0, a)\n",
    "    x2 = uniform(0, a)\n",
    "    y1 = uniform(0, b)\n",
    "    y2 = uniform(0, b)\n",
    "\n",
    "    dist = sqrt((x2 - x1)**2 + (y2 - y1)**2)\n",
    "    if (dist <= R1 + R2):\n",
    "        count = count + 1\n",
    "\n",
    "print(\"Monte Carlo Probability = {}\".format(count/N))"
   ]
  },
  {
   "cell_type": "code",
   "execution_count": null,
   "metadata": {},
   "outputs": [],
   "source": []
  },
  {
   "cell_type": "code",
   "execution_count": null,
   "metadata": {},
   "outputs": [],
   "source": []
  }
 ],
 "metadata": {
  "kernelspec": {
   "display_name": "Python 3",
   "language": "python",
   "name": "python3"
  },
  "language_info": {
   "codemirror_mode": {
    "name": "ipython",
    "version": 3
   },
   "file_extension": ".py",
   "mimetype": "text/x-python",
   "name": "python",
   "nbconvert_exporter": "python",
   "pygments_lexer": "ipython3",
   "version": "3.7.6"
  }
 },
 "nbformat": 4,
 "nbformat_minor": 4
}
