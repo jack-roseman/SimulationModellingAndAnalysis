{
 "cells": [
  {
   "cell_type": "markdown",
   "metadata": {},
   "source": [
    "$\\textbf{Problem 3 Part d}$"
   ]
  },
  {
   "cell_type": "markdown",
   "metadata": {},
   "source": [
    "$\\textbf{Problem (a) Check}$"
   ]
  },
  {
   "cell_type": "code",
   "execution_count": 1,
   "metadata": {},
   "outputs": [
    {
     "name": "stdout",
     "output_type": "stream",
     "text": [
      "Pr(A wins) =>      Monte Carlo: 0.582      Theoretical: 0.571\n",
      "Pr(B wins) =>      Monte Carlo: 0.418      Theoretical: 0.429\n"
     ]
    }
   ],
   "source": [
    "from random import uniform\n",
    "\n",
    "#DEFINE p and \n",
    "\n",
    "p = 0.5\n",
    "q = 0.75\n",
    "\n",
    "def theoreticalProbAwins():\n",
    "    return p/(q+p-p*q)\n",
    "\n",
    "def theoreticalProbBwins():\n",
    "    return (1-p)*(q/(q+p-p*q))\n",
    "\n",
    "N = 2000\n",
    "\n",
    "Awins = 0\n",
    "Bwins = 0\n",
    "\n",
    "for i in range(N):\n",
    "    #play game until one wins\n",
    "    while (True):\n",
    "        if (uniform(0,1) <= p):\n",
    "            Awins += 1\n",
    "            break\n",
    "        \n",
    "        if (uniform(0,1) <= q):\n",
    "            Bwins += 1\n",
    "            break\n",
    "\n",
    "print(\"Pr(A wins) =>      Monte Carlo: {:.3f}      Theoretical: {:.3f}\".format(Awins/N, theoreticalProbAwins()))\n",
    "print(\"Pr(B wins) =>      Monte Carlo: {:.3f}      Theoretical: {:.3f}\".format(Bwins/N, theoreticalProbBwins()))"
   ]
  },
  {
   "cell_type": "markdown",
   "metadata": {},
   "source": [
    "$\\textbf{Problem (b) Check}$"
   ]
  },
  {
   "cell_type": "code",
   "execution_count": 2,
   "metadata": {},
   "outputs": [
    {
     "name": "stdout",
     "output_type": "stream",
     "text": [
      "Pr(A wins) =>      Monte Carlo: 0.484      Theoretical: 0.500\n",
      "Pr(B wins) =>      Monte Carlo: 0.515      Theoretical: 0.500\n",
      "Notice Pr(A wins) = Pr(B wins) so this game is fair when q = p/(1-p)\n"
     ]
    }
   ],
   "source": [
    "p = 0.25\n",
    "q = p/(1-p)\n",
    "\n",
    "def theoreticalProbAwins():\n",
    "    return p/(q+p-p*q)\n",
    "\n",
    "def theoreticalProbBwins():\n",
    "    return (1-p)*(q/(q+p-p*q))\n",
    "\n",
    "N = 2000\n",
    "\n",
    "Awins = 0\n",
    "Bwins = 0\n",
    "\n",
    "for i in range(N):\n",
    "    #play game until one wins\n",
    "    while (True):\n",
    "        if (uniform(0,1) <= p):\n",
    "            Awins += 1\n",
    "            break\n",
    "            \n",
    "        if (uniform(0,1) <= q):\n",
    "            Bwins += 1\n",
    "            break\n",
    "\n",
    "print(\"Pr(A wins) =>      Monte Carlo: {:.3f}      Theoretical: {:.3f}\".format(Awins/N, theoreticalProbAwins()))\n",
    "print(\"Pr(B wins) =>      Monte Carlo: {:.3f}      Theoretical: {:.3f}\".format(Bwins/N, theoreticalProbBwins()))\n",
    "print(\"Notice Pr(A wins) = Pr(B wins) so this game is fair when q = p/(1-p)\")"
   ]
  },
  {
   "cell_type": "markdown",
   "metadata": {},
   "source": [
    "$\\textbf{Problem (c) Check}$"
   ]
  },
  {
   "cell_type": "code",
   "execution_count": 3,
   "metadata": {},
   "outputs": [
    {
     "name": "stdout",
     "output_type": "stream",
     "text": [
      "E[N] =>      Monte Carlo: 1.948      Theoretical: 2.000\n"
     ]
    }
   ],
   "source": [
    "p = 0.5\n",
    "q = 0.5\n",
    "\n",
    "def theoreticalExpectationOfN():\n",
    "    return (p - 2)/(p*q - p - q)\n",
    "\n",
    "N = 2000\n",
    "\n",
    "totalFlipsPerGame = 0\n",
    "\n",
    "for i in range(N):\n",
    "    #play game until one wins\n",
    "    n = 0\n",
    "    while (True):\n",
    "        n += 1\n",
    "        if (uniform(0,1) <= p):\n",
    "            break\n",
    "        n += 1\n",
    "        if (uniform(0,1) <= q):\n",
    "            break\n",
    "    totalFlipsPerGame += n\n",
    "\n",
    "print(\"E[N] =>      Monte Carlo: {:.3f}      Theoretical: {:.3f}\".format(totalFlipsPerGame/N, theoreticalExpectationOfN()))"
   ]
  },
  {
   "cell_type": "code",
   "execution_count": null,
   "metadata": {},
   "outputs": [],
   "source": []
  }
 ],
 "metadata": {
  "kernelspec": {
   "display_name": "Python 3",
   "language": "python",
   "name": "python3"
  },
  "language_info": {
   "codemirror_mode": {
    "name": "ipython",
    "version": 3
   },
   "file_extension": ".py",
   "mimetype": "text/x-python",
   "name": "python",
   "nbconvert_exporter": "python",
   "pygments_lexer": "ipython3",
   "version": "3.7.6"
  }
 },
 "nbformat": 4,
 "nbformat_minor": 4
}
