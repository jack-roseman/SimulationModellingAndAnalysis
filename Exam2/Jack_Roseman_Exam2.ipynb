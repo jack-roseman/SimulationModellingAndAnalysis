{
 "cells": [
  {
   "cell_type": "markdown",
   "metadata": {},
   "source": [
    "$\\textbf{Problem 3b}$"
   ]
  },
  {
   "cell_type": "code",
   "execution_count": 129,
   "metadata": {},
   "outputs": [
    {
     "name": "stdout",
     "output_type": "stream",
     "text": [
      "P(S1 + S2 = 0) => \t theoretical: 0.04605394827318831 \t monte carlo: 0.0418\n",
      "P(S1 + S2 = 10) => \t theoretical: 0.18727543147707046 \t monte carlo: 0.1884\n",
      "P(S1 + S2 = 20) => \t theoretical: 0.30275114625293514 \t monte carlo: 0.2978\n",
      "P(S1 + S2 = 30) => \t theoretical: 0.26591815113544554 \t monte carlo: 0.2668\n",
      "P(S1 + S2 = 40) => \t theoretical: 0.14469327439868657 \t monte carlo: 0.145\n",
      "P(S1 + S2 = 50) => \t theoretical: 0.04569261296800628 \t monte carlo: 0.0526\n",
      "P(S1 + S2 = 60) => \t theoretical: 0.007615435494667714 \t monte carlo: 0.0076\n"
     ]
    }
   ],
   "source": [
    "from random import uniform\n",
    "from numpy import pi\n",
    "\n",
    "N = 5000\n",
    "\n",
    "def P(s):\n",
    "    if (s == 0): return 1-(pi/4)\n",
    "    elif (s == 10): return 5*pi/36\n",
    "    elif (s == 20): return pi/12\n",
    "    elif (s == 30): return pi/36\n",
    "\n",
    "def Psum(s):\n",
    "    if   (s == 0):  return P(0)**2\n",
    "    elif (s == 10): return 2*P(10)*P(0)\n",
    "    elif (s == 20): return 2*P(20)*P(0) + P(10)**2\n",
    "    elif (s == 30): return 2*P(30)*P(0) + 2*P(20)*P(10)\n",
    "    elif (s == 40): return 2*P(30)*P(10) + P(20)**2\n",
    "    elif (s == 50): return 2*P(30)*P(20)\n",
    "    elif (s == 60): return P(30)**2\n",
    "    else: return 0\n",
    "\n",
    "def sampleS():\n",
    "    p = uniform(0,1)\n",
    "    if (p <= P(10)): return 10\n",
    "    if (p <= P(10) + P(20)): return 20\n",
    "    if (p <= P(10) + P(20) + P(0)): return 0\n",
    "    if (p <= P(10) + P(20) + P(0) + P(30)): return 30\n",
    "\n",
    "svals = [0, 10, 20, 30]\n",
    "spmf = [P(s) for s in svals]\n",
    "\n",
    "sumvals = [0, 10, 20, 30, 40, 50, 60]\n",
    "pmf = [0, 0, 0, 0, 0, 0, 0]\n",
    "\n",
    "for i in range(N):\n",
    "    s1 = sampleS()\n",
    "    s2 = sampleS()\n",
    "    for j in range(len(sumvals)):\n",
    "        if (s1+s2 == sumvals[j]):\n",
    "            pmf[j] += 1\n",
    "\n",
    "pmf = [p/N for p in pmf]\n",
    "\n",
    "for i in range(len(sumvals)):\n",
    "    print(\"P(S1 + S2 = {}) => \\t theoretical: {} \\t monte carlo: {}\".format(sumvals[i], Psum(sumvals[i]), pmf[i]))"
   ]
  },
  {
   "cell_type": "markdown",
   "metadata": {},
   "source": [
    "$\\textbf{Problem 4c}$"
   ]
  },
  {
   "cell_type": "code",
   "execution_count": 185,
   "metadata": {},
   "outputs": [
    {
     "name": "stdout",
     "output_type": "stream",
     "text": [
      "E[Z] => \t theoretical: 1 \t monte carlo: 1.0032213154509688\n",
      "V[Z] => \t theoretical: 0.1111111111111111 \t monte carlo: 0.11205050149169345\n"
     ]
    }
   ],
   "source": [
    "from random import uniform\n",
    "\n",
    "def f(z):\n",
    "    return 2*(z-1/3)\n",
    "\n",
    "def expectationOfZ():\n",
    "    return 1\n",
    "\n",
    "def varianceOfZ():\n",
    "    return 1/9\n",
    "\n",
    "ztotal = 0\n",
    "zsquaredtotal = 0\n",
    "\n",
    "\n",
    "N = 5000\n",
    "for i in range(N):\n",
    "    X1 = uniform(0,1)\n",
    "    X2 = uniform(0,1)\n",
    "    X3 = uniform(0,1)\n",
    "    X4 = uniform(0,1)\n",
    "    X = max([X1, X2])\n",
    "    Y = min([X3, X4])\n",
    "\n",
    "    ztotal += X + Y\n",
    "    zsquaredtotal += (X+Y - expectationOfZ())**2\n",
    "    \n",
    "print(\"E[Z] => \\t theoretical: {} \\t monte carlo: {}\".format(expectationOfZ(), ztotal/N))\n",
    "print(\"V[Z] => \\t theoretical: {} \\t monte carlo: {}\".format(varianceOfZ(), zsquaredtotal/N))"
   ]
  },
  {
   "cell_type": "markdown",
   "metadata": {},
   "source": [
    "$\\textbf{Problem 4d}$"
   ]
  },
  {
   "cell_type": "code",
   "execution_count": 4,
   "metadata": {},
   "outputs": [
    {
     "name": "stdout",
     "output_type": "stream",
     "text": [
      "E[W] => \t theoretical: 1 \t monte carlo: 1.0016970943894323\n",
      "V[W] => \t theoretical: 0.16666666666666666 \t monte carlo: 0.1656958483926042\n"
     ]
    }
   ],
   "source": [
    "from random import uniform\n",
    "\n",
    "def expectationOfW():\n",
    "    return 1\n",
    "\n",
    "def varianceOfW():\n",
    "    return 1/6\n",
    "\n",
    "wtotal = 0\n",
    "wsquaredtotal = 0\n",
    "N = 5000\n",
    "for i in range(N):\n",
    "    X1 = uniform(0,1)\n",
    "    X2 = uniform(0,1)\n",
    "    X = max([X1, X2])\n",
    "    Y = min([X1, X2])\n",
    "    \n",
    "    wtotal += X+Y\n",
    "    wsquaredtotal += (X+Y - expectationOfW())**2\n",
    "    \n",
    "print(\"E[W] => \\t theoretical: {} \\t monte carlo: {}\".format(expectationOfW(), wtotal/N))\n",
    "print(\"V[W] => \\t theoretical: {} \\t monte carlo: {}\".format(varianceOfW(), wsquaredtotal/N))"
   ]
  },
  {
   "cell_type": "code",
   "execution_count": 2,
   "metadata": {},
   "outputs": [
    {
     "data": {
      "text/plain": [
       "0.4896"
      ]
     },
     "execution_count": 2,
     "metadata": {},
     "output_type": "execute_result"
    }
   ],
   "source": []
  },
  {
   "cell_type": "code",
   "execution_count": null,
   "metadata": {},
   "outputs": [],
   "source": []
  }
 ],
 "metadata": {
  "kernelspec": {
   "display_name": "Python 3",
   "language": "python",
   "name": "python3"
  },
  "language_info": {
   "codemirror_mode": {
    "name": "ipython",
    "version": 3
   },
   "file_extension": ".py",
   "mimetype": "text/x-python",
   "name": "python",
   "nbconvert_exporter": "python",
   "pygments_lexer": "ipython3",
   "version": "3.7.6"
  }
 },
 "nbformat": 4,
 "nbformat_minor": 4
}
