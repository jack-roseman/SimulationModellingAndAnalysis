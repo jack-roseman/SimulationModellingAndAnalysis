{
 "cells": [
  {
   "cell_type": "code",
   "execution_count": 1,
   "metadata": {},
   "outputs": [
    {
     "name": "stdout",
     "output_type": "stream",
     "text": [
      "Monte Carlo Probability: 0.116\n"
     ]
    }
   ],
   "source": [
    "#PROBLEM 1 - A Probability Problem\n",
    "from random import uniform\n",
    "from numpy import pi, sin, cos, absolute\n",
    "\n",
    "#number of simulations\n",
    "N = 5000\n",
    "\n",
    "count = 0\n",
    "for i in range(N):\n",
    "    # points to describe circle\n",
    "    X = uniform(0, 1)\n",
    "    R = uniform(0, 1)\n",
    "    \n",
    "    #points to describe line segment\n",
    "    Y = uniform(0,1)\n",
    "    L = uniform(0,1)\n",
    "    theta = uniform(0,2*pi)\n",
    "    if (X - Y > 0): #circle on the right\n",
    "        if (absolute(L*sin(theta)/2) <= R and X - Y <= L*cos(theta)/2):\n",
    "            count += 1\n",
    "    elif (X - Y < 0): #circle on the left\n",
    "        if (absolute(L*sin(theta)/2) <= R and X - Y >= L*cos(theta)/2):\n",
    "            count += 1\n",
    "print(\"Monte Carlo Probability: {}\".format(count/N))"
   ]
  },
  {
   "cell_type": "code",
   "execution_count": 2,
   "metadata": {},
   "outputs": [
    {
     "data": {
      "image/png": "[encoded data removed]",
      "text/plain": [
       "<Figure size 432x288 with 1 Axes>"
      ]
     },
     "metadata": {
      "needs_background": "light"
     },
     "output_type": "display_data"
    },
    {
     "name": "stdout",
     "output_type": "stream",
     "text": [
      "Theoretical Maximum Daily Profit = $38.25\n",
      "Monte Carlo Maximum Daily Profit = $37.81\n"
     ]
    }
   ],
   "source": [
    "#PROBLEM 2b - A Reliability Problem\n",
    "from random import uniform\n",
    "from numpy import linspace\n",
    "from pylab import plot, show, xlabel, ylabel, legend, title\n",
    "from scipy.integrate import quad\n",
    "\n",
    "P = 7\n",
    "L = 3\n",
    "a = 0\n",
    "b = 17\n",
    "\n",
    "#Plot theoretical result\n",
    "Rvals = linspace(a, b, 100)\n",
    "\n",
    "def E():\n",
    "    return (b-a)/2\n",
    "\n",
    "def f(x):\n",
    "    if (x >= a and x < b):\n",
    "        return 1/(b-a)\n",
    "    else:\n",
    "        return 0\n",
    "    \n",
    "def F(x):\n",
    "    ans, _ = quad(f, 0, x)\n",
    "    return ans\n",
    "\n",
    "def Profit(R):\n",
    "    integration, _ = quad(lambda x: (x - R)*f(x), 0, R)\n",
    "    return P*(2*R-E()) + (2*P+L)*integration\n",
    "\n",
    "# # Uncomment to plot CDF and F(R_optimal)\n",
    "# plot(Rvals, [F(R) for R in Rvals], label=\"CDF\")\n",
    "# plot(Rvals, [2*P/(2*P+L) for R in Rvals], label=r'$F(R_{optimal}) = \\frac{2P}{2P+L}$')\n",
    "# title(\"CDF\")\n",
    "# xlabel(\"R\")\n",
    "# ylabel(\"CDF\")\n",
    "# legend(loc='lower right')\n",
    "# show()\n",
    "\n",
    "plot(Rvals, [Profit(R) for R in Rvals])\n",
    "title(\"Inventory vs. Profit\")\n",
    "xlabel(\"R\")\n",
    "ylabel(r'$Profit(R)$')\n",
    "show()\n",
    "\n",
    "Roptimal = 14.7\n",
    "print(\"Theoretical Maximum Daily Profit = ${:.2f}\".format(Profit(Roptimal)))\n",
    "\n",
    "#MONTE CARLO SIMULATION\n",
    "days = 50000\n",
    "totalProfit = 0\n",
    "for i in range(days):\n",
    "    X = uniform(a,b)\n",
    "    totalProfit += P*min([X, Roptimal]) - L*max([0, Roptimal - X]) - P*max([0, X - Roptimal])\n",
    "print(\"Monte Carlo Maximum Daily Profit = ${:.2f}\".format(totalProfit/days))"
   ]
  },
  {
   "cell_type": "code",
   "execution_count": 3,
   "metadata": {},
   "outputs": [
    {
     "name": "stdout",
     "output_type": "stream",
     "text": [
      "Monte Carlo Probability: 0.564\n",
      "Average Theoretical Probability: 0.5847576622398999\n"
     ]
    }
   ],
   "source": [
    "#PROBLEM 3 - Another Probability Problem\n",
    "from random import uniform\n",
    "from numpy import absolute\n",
    "\n",
    "#number of simulations\n",
    "N = 1000\n",
    "\n",
    "#hyperparameters\n",
    "a = 1\n",
    "b = 2\n",
    "L = 4\n",
    "\n",
    "count = 0\n",
    "theoretical = 0\n",
    "for i in range(N):\n",
    "    #define 2 circles with horizontal positions and radii (X1, R1) and (X2, R2) respectively.\n",
    "    X1 = uniform(0, L)\n",
    "    X2 = uniform(0, L)\n",
    "    R1 = uniform(0, a)\n",
    "    R2 = uniform(0, b)\n",
    "    \n",
    "    distance = absolute(X1 - X2)\n",
    "    p = (R1 + R2)/L\n",
    "    if (p <= 1):\n",
    "        theoretical += p*(2 - p)\n",
    "    else:\n",
    "        theoretical += 1\n",
    "    \n",
    "    if (distance < R1 + R2):\n",
    "        count += 1\n",
    "\n",
    "print(\"Monte Carlo Probability: {}\".format(count/N))\n",
    "print(\"Average Theoretical Probability: {}\".format(theoretical/N))"
   ]
  },
  {
   "cell_type": "code",
   "execution_count": 30,
   "metadata": {},
   "outputs": [
    {
     "name": "stdout",
     "output_type": "stream",
     "text": [
      "Number of customers served: 100\n",
      "Average time customer waits in line: 0.82 minutes\n",
      "Probability customer has to wait: 0.49\n",
      "Average time customer spends in system: 4.59 minutes\n"
     ]
    }
   ],
   "source": [
    "#PROBLEM 4 - A Queueing Problem\n",
    "\n",
    "numCustomers = 100 #Number of customers to arrive\n",
    "morningLength = 240 #number of minutes since the start of the day\n",
    "\n",
    "def getInterArrivalTime(timeOfDay):\n",
    "    if (timeOfDay < morningLength): #morning\n",
    "        return uniform(2, 6)\n",
    "    elif (timeOfDay >= morningLength): #afternoon\n",
    "        return uniform(4, 8)\n",
    "    \n",
    "def getServiceTime(timeOfDay):\n",
    "    if (timeOfDay < morningLength): #morning\n",
    "        return uniform(1, 5)\n",
    "    elif (timeOfDay >= morningLength): #afternoon\n",
    "        return uniform(3, 7)\n",
    "\n",
    "def isDayOver(timeOfDay):\n",
    "    return timeOfDay >= 4800\n",
    "\n",
    "arrivalTime = getInterArrivalTime(0) #first customers arrival time\n",
    "timeServiceBegins = arrivalTime #first customer is served when they arrive \n",
    "serviceTime = getServiceTime(0)\n",
    "timeServiceEnds = timeServiceBegins + serviceTime\n",
    "totalCustomersServed = 1 #done serving first customer\n",
    "\n",
    "totalWaitingTime = 0 #total waiting time in minutes\n",
    "totalTimeInSystem = serviceTime\n",
    "numberOfcustomersWhoHaveToWait = 0\n",
    "\n",
    "for i in range(numCustomers - 1):\n",
    "    \n",
    "    if (isDayOver(arrivalTime) or totalCustomersServed > numCustomers):\n",
    "        break\n",
    "    \n",
    "    #next customer in queue\n",
    "    timeServiceBegins = max([arrivalTime, timeServiceEnds]) #time service begins for customer\n",
    "    serviceTime = getServiceTime(timeServiceBegins) #time it takes for service\n",
    "    timeServiceEnds = timeServiceBegins + serviceTime #time service ends for customer\n",
    "    customerWaitTime = timeServiceBegins - arrivalTime #time customer spend in queue\n",
    "    totalTimeInSystem += customerWaitTime + serviceTime #total time in the store\n",
    "    totalCustomersServed += 1 #customer has been served and can leave\n",
    "    \n",
    "    #lets look at what happened to this customer\n",
    "    if (customerWaitTime > 0): #customer had to wait in line\n",
    "        totalWaitingTime += customerWaitTime\n",
    "        numberOfcustomersWhoHaveToWait += 1\n",
    "    \n",
    "    #update clock for next customer\n",
    "    arrivalTime += getInterArrivalTime(arrivalTime)\n",
    "\n",
    "print(\"Number of customers served: {}\".format(totalCustomersServed))\n",
    "print(\"Average time customer waits in line: {:.2f} minutes\".format(totalWaitingTime/totalCustomersServed))\n",
    "print(\"Probability customer has to wait: {}\".format(numberOfcustomersWhoHaveToWait/totalCustomersServed))\n",
    "print(\"Average time customer spends in system: {:.2f} minutes\".format(totalTimeInSystem/totalCustomersServed))"
   ]
  },
  {
   "cell_type": "code",
   "execution_count": null,
   "metadata": {},
   "outputs": [],
   "source": [
    "#PROBLEM 5 - Average Overlap Areas"
   ]
  }
 ],
 "metadata": {
  "kernelspec": {
   "display_name": "Python 3",
   "language": "python",
   "name": "python3"
  },
  "language_info": {
   "codemirror_mode": {
    "name": "ipython",
    "version": 3
   },
   "file_extension": ".py",
   "mimetype": "text/x-python",
   "name": "python",
   "nbconvert_exporter": "python",
   "pygments_lexer": "ipython3",
   "version": "3.7.6"
  }
 },
 "nbformat": 4,
 "nbformat_minor": 4
}
