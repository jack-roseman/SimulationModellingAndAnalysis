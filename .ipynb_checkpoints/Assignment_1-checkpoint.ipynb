{
 "cells": [
  {
   "cell_type": "code",
   "execution_count": 1,
   "metadata": {},
   "outputs": [
    {
     "name": "stdout",
     "output_type": "stream",
     "text": [
      "Monte Carlo Probability = 0.2356\n"
     ]
    }
   ],
   "source": [
    "# 1a\n",
    "from random import *\n",
    "\n",
    "N = 5000\n",
    "\n",
    "count = 0\n",
    "for i in range(N):\n",
    "    X = random()\n",
    "    Y = X + (1 - X)*random()\n",
    "    Z = random()\n",
    "    if (Z > X and Z < Y):\n",
    "        count += 1\n",
    "\n",
    "print(\"Monte Carlo Probability = {}\".format(count/N))"
   ]
  },
  {
   "cell_type": "code",
   "execution_count": 2,
   "metadata": {},
   "outputs": [
    {
     "name": "stdout",
     "output_type": "stream",
     "text": [
      "Monte Carlo Probability = 0.1696\n"
     ]
    }
   ],
   "source": [
    "# 1b\n",
    "from random import *\n",
    "\n",
    "N = 5000\n",
    "\n",
    "count = 0\n",
    "for i in range(N):\n",
    "    X = random()\n",
    "    Y = random()\n",
    "    Z = random()\n",
    "    if (Z > X and Z < Y):\n",
    "        count += 1\n",
    "\n",
    "print(\"Monte Carlo Probability = {}\".format(count/N))"
   ]
  },
  {
   "cell_type": "code",
   "execution_count": 9,
   "metadata": {},
   "outputs": [
    {
     "data": {
      "image/png": "[encoded data removed]",
      "text/plain": [
       "<Figure size 432x288 with 1 Axes>"
      ]
     },
     "metadata": {
      "needs_background": "light"
     },
     "output_type": "display_data"
    },
    {
     "name": "stdout",
     "output_type": "stream",
     "text": [
      "Monte Carlo Probability = 0.0334\n"
     ]
    }
   ],
   "source": [
    "# 2\n",
    "from random import *\n",
    "from numpy import linspace\n",
    "from pylab import plot, show, xlabel, ylabel\n",
    "\n",
    "N = 5000\n",
    "alpha = linspace(0, 1, 100)\n",
    "\n",
    "def prob(a) :\n",
    "    count = 0\n",
    "    for i in range(N):\n",
    "        X = random()\n",
    "        Y = X + (1 - X)*random()\n",
    "        Z = Y + (1 - Y)*random()\n",
    "        if (Z <= a):\n",
    "            count += 1\n",
    "    return count/N\n",
    "\n",
    "plot(alpha, [prob(a) for a in alpha], '-')\n",
    "xlabel(\"alpha\")\n",
    "ylabel(\"Pr(Z <= a)\")\n",
    "show()\n",
    "\n",
    "print(\"Monte Carlo Probability = {}\".format(prob(0.5)))"
   ]
  },
  {
   "cell_type": "code",
   "execution_count": 4,
   "metadata": {},
   "outputs": [
    {
     "name": "stdout",
     "output_type": "stream",
     "text": [
      "Monte Carlo Probability = 0.3598\n"
     ]
    }
   ],
   "source": [
    "# 3\n",
    "from random import *\n",
    "from numpy import sqrt\n",
    "\n",
    "N = 5000\n",
    "\n",
    "count = 0\n",
    "for i in range(N):\n",
    "    #generate points that describe line segment\n",
    "    XL = random()\n",
    "    YL = random()\n",
    "    XR = random()\n",
    "    YR = random()\n",
    "    \n",
    "    #compute length of segment\n",
    "#     length = sqrt((XR - XL)**2 + (YR - YL)**2)\n",
    "    \n",
    "    #generate points that describe circle center\n",
    "    XC = random()\n",
    "    YC = random()\n",
    "    \n",
    "    #compute length of segment\n",
    "    d1 = sqrt((XR - XC)**2 + (YR - YC)**2) #distance from (XR, YR) to (XC, YC)\n",
    "    d2 = sqrt((XL - XC)**2 + (YL - YC)**2) #distance from (XL, YL) to (XC, YC)\n",
    "    \n",
    "    #compute radius of circle\n",
    "    R = random()\n",
    "    \n",
    "    #if both end points are within the circle then the entire segment is inside the segment\n",
    "    if (d1 <= R and d2 <= R):\n",
    "        count += 1\n",
    "\n",
    "print(\"Monte Carlo Probability = {}\".format(count/N))"
   ]
  },
  {
   "cell_type": "code",
   "execution_count": null,
   "metadata": {},
   "outputs": [],
   "source": []
  },
  {
   "cell_type": "code",
   "execution_count": null,
   "metadata": {},
   "outputs": [],
   "source": []
  }
 ],
 "metadata": {
  "kernelspec": {
   "display_name": "Python 3",
   "language": "python",
   "name": "python3"
  },
  "language_info": {
   "codemirror_mode": {
    "name": "ipython",
    "version": 3
   },
   "file_extension": ".py",
   "mimetype": "text/x-python",
   "name": "python",
   "nbconvert_exporter": "python",
   "pygments_lexer": "ipython3",
   "version": "3.7.6"
  }
 },
 "nbformat": 4,
 "nbformat_minor": 4
}
