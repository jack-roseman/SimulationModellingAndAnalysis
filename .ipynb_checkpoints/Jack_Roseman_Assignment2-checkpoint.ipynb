{
 "cells": [
  {
   "cell_type": "markdown",
   "metadata": {},
   "source": [
    "$\\textbf{Problem 2}$ - Monte Carlo Check"
   ]
  },
  {
   "cell_type": "code",
   "execution_count": 1,
   "metadata": {},
   "outputs": [
    {
     "name": "stdout",
     "output_type": "stream",
     "text": [
      "Monte Carlo Probability = 0.84708\n",
      "Theoretical Probability = 0.84604\n"
     ]
    }
   ],
   "source": [
    "#Checking theoretical answer - theoretical answer provided in PDF hand-in\n",
    "from random import uniform\n",
    "\n",
    "N = 50000\n",
    "\n",
    "count = 0\n",
    "\n",
    "for i in range(N):\n",
    "    A = uniform(0, 1)\n",
    "    B = uniform(0, 1)\n",
    "    if (4*A**3 < 27*B**2):\n",
    "        count += 1\n",
    "\n",
    "print(\"Monte Carlo Probability = {}\".format(count/N))\n",
    "print(\"Theoretical Probability = 0.84604\".format(count/N))"
   ]
  },
  {
   "cell_type": "markdown",
   "metadata": {},
   "source": [
    "$\\textbf{Problem 3a}$"
   ]
  },
  {
   "cell_type": "code",
   "execution_count": 6,
   "metadata": {},
   "outputs": [],
   "source": [
    "from random import uniform\n",
    "from math import factorial\n",
    "\n",
    "def nCr(n,r):\n",
    "    return factorial(n) / (factorial(r)*factorial(n-r))\n",
    "\n",
    "# Theoretical Computation\n",
    "# PARAMETERS:\n",
    "# x - number of total games in the series\n",
    "# p - probability of winning any given game in the series\n",
    "# RETURN VALUE: Pr(World Series is over in x games) = Pr(X = x)\n",
    "def P(x, p): #theoretical probability of winning world series in x games with winning a game has prob p\n",
    "    return nCr(x-1,3)*(p**4)*(1-p)**(x - 4)\n",
    "\n",
    "# Monte Carlo Computation\n",
    "# PARAMETERS:\n",
    "# x - number of total games in the series\n",
    "# p - probability of winning any given game in the series\n",
    "# RETURN VALUE: Pr(World Series is over in x games) = Pr(X = x)\n",
    "def worldSeriesSim(x, p): \n",
    "    N = 1000 #total world series to simulate\n",
    "    seriesWonInXGames = 0\n",
    "    for i in range(N):\n",
    "        wins = 0\n",
    "        gamesPlayed = 0\n",
    "        for i in range(x): #play x games\n",
    "            outcome = uniform(0,1)\n",
    "            gamesPlayed += 1\n",
    "            if (outcome < p): #team A wins\n",
    "                wins += 1\n",
    "            if (wins == 4): #series is over after a team wins 4 games\n",
    "                break\n",
    "        if (gamesPlayed == x and wins == 4): #if team wins the series in x games\n",
    "            seriesWonInXGames += 1\n",
    "\n",
    "    return seriesWonInXGames/N"
   ]
  },
  {
   "cell_type": "markdown",
   "metadata": {},
   "source": [
    "$\\textbf{Problem 3a} : p = \\frac{1}{4}$"
   ]
  },
  {
   "cell_type": "code",
   "execution_count": 7,
   "metadata": {
    "scrolled": true
   },
   "outputs": [
    {
     "name": "stdout",
     "output_type": "stream",
     "text": [
      "Pr(World Series is over in 4 games) => \ttheoretical = 0.00391 \tMonte Carlo = 0.00300\n",
      "Pr(World Series is over in 5 games) => \ttheoretical = 0.01172 \tMonte Carlo = 0.00900\n",
      "Pr(World Series is over in 6 games) => \ttheoretical = 0.02197 \tMonte Carlo = 0.02200\n",
      "Pr(World Series is over in 7 games) => \ttheoretical = 0.03296 \tMonte Carlo = 0.03800\n"
     ]
    }
   ],
   "source": [
    "p = 1/4 #probability of winning a game\n",
    "print(\"Pr(World Series is over in 4 games) =>\", \"\\ttheoretical = {:.5f}\".format(P(4, p)), \"\\tMonte Carlo = {:.5f}\".format(worldSeriesSim(4, p)))\n",
    "print(\"Pr(World Series is over in 5 games) =>\", \"\\ttheoretical = {:.5f}\".format(P(5, p)), \"\\tMonte Carlo = {:.5f}\".format(worldSeriesSim(5, p)))\n",
    "print(\"Pr(World Series is over in 6 games) =>\", \"\\ttheoretical = {:.5f}\".format(P(6, p)), \"\\tMonte Carlo = {:.5f}\".format(worldSeriesSim(6, p)))\n",
    "print(\"Pr(World Series is over in 7 games) =>\", \"\\ttheoretical = {:.5f}\".format(P(7, p)), \"\\tMonte Carlo = {:.5f}\".format(worldSeriesSim(7, p)))"
   ]
  },
  {
   "cell_type": "markdown",
   "metadata": {},
   "source": [
    "$\\textbf{Problem 3a} : p = \\frac{1}{2}$"
   ]
  },
  {
   "cell_type": "code",
   "execution_count": 8,
   "metadata": {},
   "outputs": [
    {
     "name": "stdout",
     "output_type": "stream",
     "text": [
      "Pr(World Series is over in 4 games) => \ttheoretical = 0.06250 \tMonte Carlo = 0.06600\n",
      "Pr(World Series is over in 5 games) => \ttheoretical = 0.12500 \tMonte Carlo = 0.13600\n",
      "Pr(World Series is over in 6 games) => \ttheoretical = 0.15625 \tMonte Carlo = 0.17500\n",
      "Pr(World Series is over in 7 games) => \ttheoretical = 0.15625 \tMonte Carlo = 0.15500\n"
     ]
    }
   ],
   "source": [
    "p = 1/2\n",
    "print(\"Pr(World Series is over in 4 games) =>\", \"\\ttheoretical = {:.5f}\".format(P(4, p)), \"\\tMonte Carlo = {:.5f}\".format(worldSeriesSim(4, p)))\n",
    "print(\"Pr(World Series is over in 5 games) =>\", \"\\ttheoretical = {:.5f}\".format(P(5, p)), \"\\tMonte Carlo = {:.5f}\".format(worldSeriesSim(5, p)))\n",
    "print(\"Pr(World Series is over in 6 games) =>\", \"\\ttheoretical = {:.5f}\".format(P(6, p)), \"\\tMonte Carlo = {:.5f}\".format(worldSeriesSim(6, p)))\n",
    "print(\"Pr(World Series is over in 7 games) =>\", \"\\ttheoretical = {:.5f}\".format(P(7, p)), \"\\tMonte Carlo = {:.5f}\".format(worldSeriesSim(7, p)))"
   ]
  },
  {
   "cell_type": "markdown",
   "metadata": {},
   "source": [
    "$\\textbf{Problem 3a} : p = \\frac{3}{4}$"
   ]
  },
  {
   "cell_type": "code",
   "execution_count": 9,
   "metadata": {},
   "outputs": [
    {
     "name": "stdout",
     "output_type": "stream",
     "text": [
      "Pr(World Series is over in 4 games) => \ttheoretical = 0.31641 \tMonte Carlo = 0.29900\n",
      "Pr(World Series is over in 5 games) => \ttheoretical = 0.31641 \tMonte Carlo = 0.30100\n",
      "Pr(World Series is over in 6 games) => \ttheoretical = 0.19775 \tMonte Carlo = 0.15300\n",
      "Pr(World Series is over in 7 games) => \ttheoretical = 0.09888 \tMonte Carlo = 0.09300\n"
     ]
    }
   ],
   "source": [
    "p = 3/4\n",
    "print(\"Pr(World Series is over in 4 games) =>\", \"\\ttheoretical = {:.5f}\".format(P(4, p)), \"\\tMonte Carlo = {:.5f}\".format(worldSeriesSim(4, p)))\n",
    "print(\"Pr(World Series is over in 5 games) =>\", \"\\ttheoretical = {:.5f}\".format(P(5, p)), \"\\tMonte Carlo = {:.5f}\".format(worldSeriesSim(5, p)))\n",
    "print(\"Pr(World Series is over in 6 games) =>\", \"\\ttheoretical = {:.5f}\".format(P(6, p)), \"\\tMonte Carlo = {:.5f}\".format(worldSeriesSim(6, p)))\n",
    "print(\"Pr(World Series is over in 7 games) =>\", \"\\ttheoretical = {:.5f}\".format(P(7, p)), \"\\tMonte Carlo = {:.5f}\".format(worldSeriesSim(7, p)))"
   ]
  }
 ],
 "metadata": {
  "kernelspec": {
   "display_name": "Python 3",
   "language": "python",
   "name": "python3"
  },
  "language_info": {
   "codemirror_mode": {
    "name": "ipython",
    "version": 3
   },
   "file_extension": ".py",
   "mimetype": "text/x-python",
   "name": "python",
   "nbconvert_exporter": "python",
   "pygments_lexer": "ipython3",
   "version": "3.7.6"
  }
 },
 "nbformat": 4,
 "nbformat_minor": 4
}
