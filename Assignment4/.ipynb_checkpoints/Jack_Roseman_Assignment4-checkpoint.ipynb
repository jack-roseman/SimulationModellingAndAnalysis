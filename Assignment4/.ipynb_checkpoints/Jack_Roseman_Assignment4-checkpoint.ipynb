{
 "cells": [
  {
   "cell_type": "code",
   "execution_count": 205,
   "metadata": {},
   "outputs": [
    {
     "name": "stdout",
     "output_type": "stream",
     "text": [
      "0.26084\n"
     ]
    }
   ],
   "source": [
    "from numpy import log\n",
    "from random import uniform\n",
    "\n",
    "N = 50000\n",
    "lam = 1/150\n",
    "\n",
    "def sampleExp():\n",
    "    return -log(uniform(0,1))/lam\n",
    "\n",
    "count = 0\n",
    "for i in range(N):\n",
    "    X = max([sampleExp(), sampleExp()]) + sampleExp() + sampleExp()\n",
    "    if (X <= 336):\n",
    "        count += 1\n",
    "        \n",
    "print(count/N)"
   ]
  },
  {
   "cell_type": "markdown",
   "metadata": {},
   "source": [
    "$\\textbf{Problem 3}$"
   ]
  },
  {
   "cell_type": "code",
   "execution_count": 114,
   "metadata": {},
   "outputs": [],
   "source": [
    "from numpy import exp, linspace\n",
    "from random import uniform\n",
    "\n",
    "N = 50000\n",
    "\n",
    "def th(a,b):\n",
    "    if (a < 0 and b < 0):\n",
    "        return (exp(b) - exp(a))/3\n",
    "    elif (a < 0 and b > 0 and b < 1):\n",
    "        return (b + 1 - exp(a))/3\n",
    "    elif (a > 0 and a < 1 and b > 0 and b < 1):\n",
    "        return (b-a)/3\n",
    "    elif (a < 0 and b > 1):\n",
    "        return (3 - exp(a) - 1/b)/3\n",
    "    elif (a > 0 and a < 1 and b > 1):\n",
    "        return (2 - a - 1/b)/3\n",
    "    elif (a > 1 and b > 1):\n",
    "        return (1/a - 1/b)/3\n",
    "\n",
    "\n",
    "def sample():\n",
    "    r = uniform(0,1)\n",
    "    if (r < 1/3):\n",
    "        return log(3*r)\n",
    "    elif (r > 1/3 and r < 2/3):\n",
    "        return 3*r - 1\n",
    "    elif (r > 2/3):\n",
    "        return 1/(3*(1-r))\n",
    "\n",
    "#compute Pr(a < X < b) with monte carlo\n",
    "def sim(a,b):\n",
    "    lessThanACount = 0\n",
    "    lessThanBCount = 0\n",
    "    for i in range(N):\n",
    "        X = sample()\n",
    "        if (X < a):\n",
    "            lessThanACount += 1\n",
    "        if (X < b):\n",
    "            lessThanBCount += 1\n",
    "    return (lessThanBCount - lessThanACount)/N\n"
   ]
  },
  {
   "cell_type": "markdown",
   "metadata": {},
   "source": [
    "$\\textbf{a < 0, b < 0, b > a}$"
   ]
  },
  {
   "cell_type": "code",
   "execution_count": 124,
   "metadata": {},
   "outputs": [
    {
     "name": "stdout",
     "output_type": "stream",
     "text": [
      "Pr(a < X < b) => \tMonteCarlo: 0.17966 \t\t Theoretical:0.17898599228817239\n"
     ]
    }
   ],
   "source": [
    "a = -1\n",
    "b = -0.1\n",
    "print(\"Pr(a < X < b) => \\tMonte Carlo: {} \\t\\t Theoretical:{}\".format(sim(a,b), th(a, b)))"
   ]
  },
  {
   "cell_type": "markdown",
   "metadata": {},
   "source": [
    "$\\textbf{a < 0, 0 < b < 1, b > a}$"
   ]
  },
  {
   "cell_type": "code",
   "execution_count": 125,
   "metadata": {},
   "outputs": [
    {
     "name": "stdout",
     "output_type": "stream",
     "text": [
      "Pr(a < X < b) => \tMonteCarlo: 0.24478 \t\t Theoretical:0.24404018627618593\n"
     ]
    }
   ],
   "source": [
    "a = -1\n",
    "b = 0.1\n",
    "print(\"Pr(a < X < b) => \\tMonte Carlo: {} \\t\\t Theoretical:{}\".format(sim(a,b), th(a, b)))"
   ]
  },
  {
   "cell_type": "markdown",
   "metadata": {},
   "source": [
    "$\\textbf{0 < a < 1, 0 < b < 1, b > a}$"
   ]
  },
  {
   "cell_type": "code",
   "execution_count": 126,
   "metadata": {},
   "outputs": [
    {
     "name": "stdout",
     "output_type": "stream",
     "text": [
      "Pr(a < X < b) => \tMonteCarlo: 0.08328 \t\t Theoretical:0.08333333333333333\n"
     ]
    }
   ],
   "source": [
    "a = 0.25\n",
    "b = 0.5\n",
    "print(\"Pr(a < X < b) => \\tMonte Carlo: {} \\t\\t Theoretical:{}\".format(sim(a,b), th(a, b)))"
   ]
  },
  {
   "cell_type": "markdown",
   "metadata": {},
   "source": [
    "$\\textbf{a < 0, b > 1, b > a}$"
   ]
  },
  {
   "cell_type": "code",
   "execution_count": 127,
   "metadata": {},
   "outputs": [
    {
     "name": "stdout",
     "output_type": "stream",
     "text": [
      "Pr(a < X < b) => \tMonteCarlo: 0.70906 \t\t Theoretical:0.7107068529428525\n"
     ]
    }
   ],
   "source": [
    "a = -1\n",
    "b = 2\n",
    "print(\"Pr(a < X < b) => \\tMonteCarlo: {} \\t\\t Theoretical:{}\".format(sim(a,b), th(a, b)))"
   ]
  },
  {
   "cell_type": "markdown",
   "metadata": {},
   "source": [
    "$\\textbf{0 < a < 1, b > 1, b > a}$"
   ]
  },
  {
   "cell_type": "code",
   "execution_count": 128,
   "metadata": {},
   "outputs": [
    {
     "name": "stdout",
     "output_type": "stream",
     "text": [
      "Pr(a < X < b) => \tMonteCarlo: -0.07882 \t\t Theoretical:-0.08\n"
     ]
    }
   ],
   "source": [
    "a = 0.34\n",
    "b = 0.1\n",
    "print(\"Pr(a < X < b) => \\tMonteCarlo: {} \\t\\t Theoretical:{}\".format(sim(a,b), th(a, b)))"
   ]
  },
  {
   "cell_type": "markdown",
   "metadata": {},
   "source": [
    "$\\textbf{a > 1, b > 1, b > a}$"
   ]
  },
  {
   "cell_type": "code",
   "execution_count": 134,
   "metadata": {},
   "outputs": [
    {
     "name": "stdout",
     "output_type": "stream",
     "text": [
      "Pr(a < X < b) => \tMonteCarlo: 0.00452 \t\t Theoretical:0.004320987654320989\n"
     ]
    }
   ],
   "source": [
    "a = 20\n",
    "b = 27\n",
    "print(\"Pr(a < X < b) => \\tMonteCarlo: {} \\t\\t Theoretical:{}\".format(sim(a,b), th(a, b)))"
   ]
  },
  {
   "cell_type": "code",
   "execution_count": null,
   "metadata": {},
   "outputs": [],
   "source": []
  }
 ],
 "metadata": {
  "kernelspec": {
   "display_name": "Python 3",
   "language": "python",
   "name": "python3"
  },
  "language_info": {
   "codemirror_mode": {
    "name": "ipython",
    "version": 3
   },
   "file_extension": ".py",
   "mimetype": "text/x-python",
   "name": "python",
   "nbconvert_exporter": "python",
   "pygments_lexer": "ipython3",
   "version": "3.7.6"
  }
 },
 "nbformat": 4,
 "nbformat_minor": 4
}
